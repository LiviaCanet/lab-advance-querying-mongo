{
 "cells": [
  {
   "cell_type": "markdown",
   "metadata": {},
   "source": [
    "# [lab-advance-querying-mongo] \n",
    "# Using PyMongo instead of Compass Filter"
   ]
  },
  {
   "cell_type": "code",
   "execution_count": 1,
   "metadata": {},
   "outputs": [],
   "source": [
    "import pymongo\n",
    "MongoClient = pymongo.MongoClient"
   ]
  },
  {
   "cell_type": "code",
   "execution_count": 3,
   "metadata": {},
   "outputs": [],
   "source": [
    "#Importing\n",
    "\n",
    "client = MongoClient()\n",
    "\n",
    "db = client.companies"
   ]
  },
  {
   "cell_type": "markdown",
   "metadata": {},
   "source": [
    "### All the companies that it's name match 'Babelgum'. Retrieve only their name field."
   ]
  },
  {
   "cell_type": "code",
   "execution_count": 4,
   "metadata": {},
   "outputs": [
    {
     "name": "stdout",
     "output_type": "stream",
     "text": [
      "['Babelgum']\n"
     ]
    }
   ],
   "source": [
    "cursor = db.companies.find({\"name\": \"Babelgum\"})\n",
    "\n",
    "print(list (map (lambda r: r[\"name\"], list(cursor))))"
   ]
  },
  {
   "cell_type": "markdown",
   "metadata": {},
   "source": [
    "### All the companies that have more than 5000 employees. Limit the search to 20 companies and sort them by number of employees."
   ]
  },
  {
   "cell_type": "code",
   "execution_count": 14,
   "metadata": {},
   "outputs": [
    {
     "name": "stdout",
     "output_type": "stream",
     "text": [
      "[['Siemens', 405000], ['IBM', 388000], ['Toyota', 320000], ['PayPal', 300000], ['Nippon Telegraph and Telephone Corporation', 227000], ['Samsung Electronics', 221726], ['Accenture', 205000], ['Tata Consultancy Services', 200300], ['Flextronics International', 200000], ['Safeway', 186000], ['Sony', 180500], ['LG', 177000], ['Ford', 171000], ['Boeing', 160000], ['Digital Equipment Corporation', 140000], ['Nokia', 125000], ['MItsubishi Electric', 107000], ['MItsubishi Electric', 107000], ['Comcast', 100000], ['Bertelsmann', 100000]]\n"
     ]
    }
   ],
   "source": [
    "cursor2 = db.companies.find({\"number_of_employees\": {\"$gt\": 5000}}).sort(\"number_of_employees\", pymongo.DESCENDING).limit(20)\n",
    "\n",
    "print(list(map(lambda x: [x[\"name\"], x[\"number_of_employees\"]], list(cursor2))))\n",
    "\n"
   ]
  },
  {
   "cell_type": "markdown",
   "metadata": {},
   "source": [
    "### All the companies founded between 2000 and 2005, both years included. Retrieve only the name and founded_year fileds. (& a Limit to avoid scrolling down!!)"
   ]
  },
  {
   "cell_type": "code",
   "execution_count": 37,
   "metadata": {},
   "outputs": [
    {
     "name": "stdout",
     "output_type": "stream",
     "text": [
      "[['Wetpaint', 2005], ['Zoho', 2005], ['Digg', 2004], ['Omnidrive', 2005], ['Gizmoz', 2003], ['StumbleUpon', 2002], ['Helio', 2005], ['Plaxo', 2002], ['Facebook', 2004], ['Technorati', 2002], ['AddThis', 2004], ['Veoh', 2004], ['Jingle Networks', 2005], ['Wesabe', 2005], ['Jangl SMS', 2005], ['SmugMug', 2002], ['Meetup', 2002], ['LifeLock', 2005], ['Jajah', 2005], ['Pando Networks', 2004], ['YouTube', 2005], ['Ikan', 2003], ['delicious', 2003], ['Topix', 2002], ['Jobster', 2004], ['Skype', 2003], ['AllPeers', 2004], ['iSkoot', 2005], ['iContact', 2003], ['Revision3', 2005]]\n"
     ]
    }
   ],
   "source": [
    "cursor3 = db.companies.find({\"founded_year\": {\"$gt\": 2000, \"$lt\": 2006}}).limit(30)\n",
    "\n",
    "print(list(map(lambda x: [x[\"name\"],x [\"founded_year\"]], list(cursor3))))\n"
   ]
  },
  {
   "cell_type": "markdown",
   "metadata": {},
   "source": [
    "### All the companies that had a Valuation Amount of more than 100.000.000 and have been founded before 2010. Retrieve only the name and ipo fields. (& a Limit to avoid scrolling down!!)"
   ]
  },
  {
   "cell_type": "code",
   "execution_count": 36,
   "metadata": {},
   "outputs": [
    {
     "name": "stdout",
     "output_type": "stream",
     "text": [
      "[['Twitter', {'valuation_amount': 18100000000, 'valuation_currency_code': 'USD', 'pub_year': 2013, 'pub_month': 11, 'pub_day': 7, 'stock_symbol': 'NYSE:TWTR'}], ['Facebook', {'valuation_amount': 104000000000, 'valuation_currency_code': 'USD', 'pub_year': 2012, 'pub_month': 5, 'pub_day': 18, 'stock_symbol': 'NASDAQ:FB'}], ['Yelp', {'valuation_amount': 1300000000, 'valuation_currency_code': 'USD', 'pub_year': 2012, 'pub_month': 3, 'pub_day': 2, 'stock_symbol': 'NYSE:YELP'}], ['LinkedIn', {'valuation_amount': 9310000000, 'valuation_currency_code': 'USD', 'pub_year': 2011, 'pub_month': 7, 'pub_day': 20, 'stock_symbol': 'NYSE:LNKD'}], ['Brightcove', {'valuation_amount': 290000000, 'valuation_currency_code': 'USD', 'pub_year': 2012, 'pub_month': 2, 'pub_day': 17, 'stock_symbol': 'NASDAQ:BCOV'}], ['Amazon', {'valuation_amount': 100000000000, 'valuation_currency_code': 'USD', 'pub_year': 1997, 'pub_month': 5, 'pub_day': None, 'stock_symbol': 'NASDAQ:AMZN'}], ['KIT digital', {'valuation_amount': 235000000, 'valuation_currency_code': 'USD', 'pub_year': 2010, 'pub_month': 7, 'pub_day': 27, 'stock_symbol': 'KITD'}], ['Nielsen', {'valuation_amount': 1600000000, 'valuation_currency_code': 'USD', 'pub_year': 2011, 'pub_month': 1, 'pub_day': 26, 'stock_symbol': 'NYSE:NLSN'}], ['OpenTable', {'valuation_amount': 1050000000, 'valuation_currency_code': 'USD', 'pub_year': 2009, 'pub_month': 5, 'pub_day': 21, 'stock_symbol': 'NASDAQ:OPEN'}], ['ChannelAdvisor', {'valuation_amount': 287000000, 'valuation_currency_code': 'USD', 'pub_year': 2013, 'pub_month': 5, 'pub_day': 23, 'stock_symbol': 'NYSE:ECOM'}]]\n"
     ]
    }
   ],
   "source": [
    "cursor4 = db.companies.find({\"$and\": [{\"ipo.valuation_amount\": {\"$gt\":100000000}}, {\"founded_year\": {\"$lt\": 2010}}]}).limit(10)\n",
    "\n",
    "print(list(map(lambda x: [x[\"name\"], x[\"ipo\"]], list(cursor4))))\n"
   ]
  },
  {
   "cell_type": "markdown",
   "metadata": {},
   "source": [
    "### All the companies that have less than 1000 employees and have been founded before 2005. Order them by the number of employees and limit the search to 10 companies."
   ]
  },
  {
   "cell_type": "code",
   "execution_count": 35,
   "metadata": {},
   "outputs": [
    {
     "name": "stdout",
     "output_type": "stream",
     "text": [
      "[['Infinera Corporation', 974], ['NorthPoint Communications Group', 948], ['888 Holdings', 931], ['Forrester Research', 903], ['SonicWALL', 900], ['Webmetrics', 900], ['Cornerstone OnDemand', 881], ['Yelp', 800], ['ZoomInfo', 800], ['MySpace', 800]]\n"
     ]
    }
   ],
   "source": [
    "cursor5 = db.companies.find({\"$and\": [{\"number_of_employees\": {\"$lt\": 1000}}, {\"founded_year\": {\"$lt\": 2005}}]}).sort(\"number_of_employees\", pymongo.DESCENDING).limit(10)\n",
    "\n",
    "print(list(map(lambda x: [x[\"name\"], x[\"number_of_employees\"]], list(cursor5))))\n",
    "\n"
   ]
  },
  {
   "cell_type": "code",
   "execution_count": null,
   "metadata": {},
   "outputs": [],
   "source": []
  }
 ],
 "metadata": {
  "kernelspec": {
   "display_name": "Python 3",
   "language": "python",
   "name": "python3"
  },
  "language_info": {
   "codemirror_mode": {
    "name": "ipython",
    "version": 3
   },
   "file_extension": ".py",
   "mimetype": "text/x-python",
   "name": "python",
   "nbconvert_exporter": "python",
   "pygments_lexer": "ipython3",
   "version": "3.7.2"
  }
 },
 "nbformat": 4,
 "nbformat_minor": 2
}
